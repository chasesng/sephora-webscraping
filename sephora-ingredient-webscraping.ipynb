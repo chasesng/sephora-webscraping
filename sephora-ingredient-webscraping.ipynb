{
 "cells": [
  {
   "cell_type": "markdown",
   "id": "d26b707e",
   "metadata": {
    "_cell_guid": "078bebea-eacd-009d-be23-ffd04a9a28d7"
   },
   "source": [
    "# Webscraping for excel data from Sephora"
   ]
  },
  {
   "cell_type": "markdown",
   "id": "1735df13",
   "metadata": {
    "_cell_guid": "5fd61b05-3123-f9f2-07b4-65f494b1d197"
   },
   "source": [
    "The goal for this notebook is to provide usable excel data by pulling it from a site that utilizes lazy loading, and follows standard product container naming conventions. Each step is crucial to ensure data is aligned and matched properly to its related values.\n",
    "\n",
    "The sections of this analysis include: \n",
    "\n",
    " - Webdriver loader\n",
    "     * Opens Sephora webpage\n",
    "     * Scrapes through all product \"divs\" with specified classname, simulated scrolling to get past sites that utilize \"lazy loading\"\n",
    "     * Computes whether data is already present, before deciding to add into main dataframe\n",
    "     * Finalizes product data\n",
    " - Displaying partial data extracted.\n",
    " - Conversion of each column to an array, splicing them together.\n",
    " - Each of the products scraped is now parsed into a new webdriver, extracting the product ingredient's div container, specified by the class name.\n",
    " - Values present in this dataframe is then processed in a similar fashion to the products themselves.\n",
    " - Final result, an excel sheet containing the product name and ingredient data is output as an excel sheet.\n",
    " - Available data that can be added to the final sheet includes, 'Image URL', and 'URL Extension'.\n",
    " - In short, given a Sephora category url, this notebook outputs an excel sheet containing products present on that page, as well as its ingredients, showing its process every step of the way."
   ]
  },
  {
   "cell_type": "code",
   "execution_count": 2,
   "id": "2a9a7eb0",
   "metadata": {
    "scrolled": true
   },
   "outputs": [
    {
     "ename": "NoSuchWindowException",
     "evalue": "Message: no such window: target window already closed\nfrom unknown error: web view not found\n  (Session info: chrome=112.0.5615.138)\nStacktrace:\nBacktrace:\n\tGetHandleVerifier [0x0034DCE3+50899]\n\t(No symbol) [0x002DE111]\n\t(No symbol) [0x001E5588]\n\t(No symbol) [0x001CD333]\n\t(No symbol) [0x0022F4DB]\n\t(No symbol) [0x0023DB33]\n\t(No symbol) [0x0022B6F6]\n\t(No symbol) [0x00207708]\n\t(No symbol) [0x0020886D]\n\tGetHandleVerifier [0x005B3EAE+2566302]\n\tGetHandleVerifier [0x005E92B1+2784417]\n\tGetHandleVerifier [0x005E327C+2759788]\n\tGetHandleVerifier [0x003E5740+672048]\n\t(No symbol) [0x002E8872]\n\t(No symbol) [0x002E41C8]\n\t(No symbol) [0x002E42AB]\n\t(No symbol) [0x002D71B7]\n\tBaseThreadInitThunk [0x755E7D49+25]\n\tRtlInitializeExceptionChain [0x76F2B74B+107]\n\tRtlClearBits [0x76F2B6CF+191]\n",
     "output_type": "error",
     "traceback": [
      "\u001b[1;31m---------------------------------------------------------------------------\u001b[0m",
      "\u001b[1;31mNoSuchWindowException\u001b[0m                     Traceback (most recent call last)",
      "Cell \u001b[1;32mIn[2], line 16\u001b[0m\n\u001b[0;32m     13\u001b[0m time\u001b[38;5;241m.\u001b[39msleep(\u001b[38;5;241m5\u001b[39m)\n\u001b[0;32m     15\u001b[0m url \u001b[38;5;241m=\u001b[39m \u001b[38;5;124m'\u001b[39m\u001b[38;5;124mhttps://www.sephora.sg/brands/aveda/hair\u001b[39m\u001b[38;5;124m'\u001b[39m\n\u001b[1;32m---> 16\u001b[0m \u001b[43mdriver\u001b[49m\u001b[38;5;241;43m.\u001b[39;49m\u001b[43mget\u001b[49m\u001b[43m(\u001b[49m\u001b[43murl\u001b[49m\u001b[43m)\u001b[49m\n\u001b[0;32m     20\u001b[0m \u001b[38;5;66;03m# scroll down to load all products\u001b[39;00m\n\u001b[0;32m     21\u001b[0m scroll_pause_time \u001b[38;5;241m=\u001b[39m \u001b[38;5;241m3\u001b[39m\n",
      "File \u001b[1;32m~\\anaconda3\\lib\\site-packages\\selenium\\webdriver\\remote\\webdriver.py:449\u001b[0m, in \u001b[0;36mWebDriver.get\u001b[1;34m(self, url)\u001b[0m\n\u001b[0;32m    447\u001b[0m \u001b[38;5;28;01mdef\u001b[39;00m \u001b[38;5;21mget\u001b[39m(\u001b[38;5;28mself\u001b[39m, url: \u001b[38;5;28mstr\u001b[39m) \u001b[38;5;241m-\u001b[39m\u001b[38;5;241m>\u001b[39m \u001b[38;5;28;01mNone\u001b[39;00m:\n\u001b[0;32m    448\u001b[0m     \u001b[38;5;124;03m\"\"\"Loads a web page in the current browser session.\"\"\"\u001b[39;00m\n\u001b[1;32m--> 449\u001b[0m     \u001b[38;5;28;43mself\u001b[39;49m\u001b[38;5;241;43m.\u001b[39;49m\u001b[43mexecute\u001b[49m\u001b[43m(\u001b[49m\u001b[43mCommand\u001b[49m\u001b[38;5;241;43m.\u001b[39;49m\u001b[43mGET\u001b[49m\u001b[43m,\u001b[49m\u001b[43m \u001b[49m\u001b[43m{\u001b[49m\u001b[38;5;124;43m\"\u001b[39;49m\u001b[38;5;124;43murl\u001b[39;49m\u001b[38;5;124;43m\"\u001b[39;49m\u001b[43m:\u001b[49m\u001b[43m \u001b[49m\u001b[43murl\u001b[49m\u001b[43m}\u001b[49m\u001b[43m)\u001b[49m\n",
      "File \u001b[1;32m~\\anaconda3\\lib\\site-packages\\selenium\\webdriver\\remote\\webdriver.py:440\u001b[0m, in \u001b[0;36mWebDriver.execute\u001b[1;34m(self, driver_command, params)\u001b[0m\n\u001b[0;32m    438\u001b[0m response \u001b[38;5;241m=\u001b[39m \u001b[38;5;28mself\u001b[39m\u001b[38;5;241m.\u001b[39mcommand_executor\u001b[38;5;241m.\u001b[39mexecute(driver_command, params)\n\u001b[0;32m    439\u001b[0m \u001b[38;5;28;01mif\u001b[39;00m response:\n\u001b[1;32m--> 440\u001b[0m     \u001b[38;5;28;43mself\u001b[39;49m\u001b[38;5;241;43m.\u001b[39;49m\u001b[43merror_handler\u001b[49m\u001b[38;5;241;43m.\u001b[39;49m\u001b[43mcheck_response\u001b[49m\u001b[43m(\u001b[49m\u001b[43mresponse\u001b[49m\u001b[43m)\u001b[49m\n\u001b[0;32m    441\u001b[0m     response[\u001b[38;5;124m\"\u001b[39m\u001b[38;5;124mvalue\u001b[39m\u001b[38;5;124m\"\u001b[39m] \u001b[38;5;241m=\u001b[39m \u001b[38;5;28mself\u001b[39m\u001b[38;5;241m.\u001b[39m_unwrap_value(response\u001b[38;5;241m.\u001b[39mget(\u001b[38;5;124m\"\u001b[39m\u001b[38;5;124mvalue\u001b[39m\u001b[38;5;124m\"\u001b[39m, \u001b[38;5;28;01mNone\u001b[39;00m))\n\u001b[0;32m    442\u001b[0m     \u001b[38;5;28;01mreturn\u001b[39;00m response\n",
      "File \u001b[1;32m~\\anaconda3\\lib\\site-packages\\selenium\\webdriver\\remote\\errorhandler.py:245\u001b[0m, in \u001b[0;36mErrorHandler.check_response\u001b[1;34m(self, response)\u001b[0m\n\u001b[0;32m    243\u001b[0m         alert_text \u001b[38;5;241m=\u001b[39m value[\u001b[38;5;124m\"\u001b[39m\u001b[38;5;124malert\u001b[39m\u001b[38;5;124m\"\u001b[39m]\u001b[38;5;241m.\u001b[39mget(\u001b[38;5;124m\"\u001b[39m\u001b[38;5;124mtext\u001b[39m\u001b[38;5;124m\"\u001b[39m)\n\u001b[0;32m    244\u001b[0m     \u001b[38;5;28;01mraise\u001b[39;00m exception_class(message, screen, stacktrace, alert_text)  \u001b[38;5;66;03m# type: ignore[call-arg]  # mypy is not smart enough here\u001b[39;00m\n\u001b[1;32m--> 245\u001b[0m \u001b[38;5;28;01mraise\u001b[39;00m exception_class(message, screen, stacktrace)\n",
      "\u001b[1;31mNoSuchWindowException\u001b[0m: Message: no such window: target window already closed\nfrom unknown error: web view not found\n  (Session info: chrome=112.0.5615.138)\nStacktrace:\nBacktrace:\n\tGetHandleVerifier [0x0034DCE3+50899]\n\t(No symbol) [0x002DE111]\n\t(No symbol) [0x001E5588]\n\t(No symbol) [0x001CD333]\n\t(No symbol) [0x0022F4DB]\n\t(No symbol) [0x0023DB33]\n\t(No symbol) [0x0022B6F6]\n\t(No symbol) [0x00207708]\n\t(No symbol) [0x0020886D]\n\tGetHandleVerifier [0x005B3EAE+2566302]\n\tGetHandleVerifier [0x005E92B1+2784417]\n\tGetHandleVerifier [0x005E327C+2759788]\n\tGetHandleVerifier [0x003E5740+672048]\n\t(No symbol) [0x002E8872]\n\t(No symbol) [0x002E41C8]\n\t(No symbol) [0x002E42AB]\n\t(No symbol) [0x002D71B7]\n\tBaseThreadInitThunk [0x755E7D49+25]\n\tRtlInitializeExceptionChain [0x76F2B74B+107]\n\tRtlClearBits [0x76F2B6CF+191]\n"
     ]
    }
   ],
   "source": [
    "import time\n",
    "import pandas as pd\n",
    "from selenium import webdriver\n",
    "from selenium.webdriver.common.keys import Keys\n",
    "from bs4 import BeautifulSoup\n",
    "\n",
    "product_names = set()\n",
    "image_urls = set()\n",
    "product_links = set()\n",
    "\n",
    "driver = webdriver.Chrome()\n",
    "\n",
    "time.sleep(5)\n",
    "\n",
    "url = 'https://www.sephora.sg/brands/aveda/hair'\n",
    "driver.get(url)\n",
    "\n",
    "\n",
    "\n",
    "# scroll down to load all products\n",
    "scroll_pause_time = 3\n",
    "scroll_height = 0\n",
    "while True:\n",
    "    driver.execute_script(f\"window.scrollTo(0, {scroll_height});\")\n",
    "    time.sleep(scroll_pause_time)\n",
    "    html = driver.page_source\n",
    "    soup = BeautifulSoup(html, 'html.parser')\n",
    "    containers = soup.find_all('div', {'class': 'products-card-container'})\n",
    "    \n",
    "    for container in containers:\n",
    "        product_name = container.find('div', {'class': 'product-name'}).text.strip()\n",
    "        product_link = 'https://www.sephora.sg' + container.find('a', {'class': 'product-card-image-link'})['href']\n",
    "        product_image = container.find('img', {'class': 'product-card-image'})['src']\n",
    "        if product_link not in product_links:\n",
    "            product_names.add(product_name)\n",
    "            image_urls.add(product_image)\n",
    "            product_links.add(product_link)\n",
    "    \n",
    "    if len(product_links) >= 30:\n",
    "        break\n",
    "    scroll_height += 1000\n",
    "    \n",
    "driver.quit()\n",
    "\n",
    "df = pd.DataFrame({'Product Name': list(product_names), 'Image Url': list(image_urls), 'Product Links': list(product_links)})\n"
   ]
  },
  {
   "cell_type": "markdown",
   "id": "9c745721",
   "metadata": {
    "_cell_guid": "d60b2c81-ea2c-fdc8-4e00-3f6b12af5fba"
   },
   "source": [
    "\n",
    "\n",
    "Displays a shortened version of the data extracted.\n",
    "'Image URL' may not align with 'Product Name' currently."
   ]
  },
  {
   "cell_type": "code",
   "execution_count": 21,
   "id": "ff0aa850",
   "metadata": {
    "scrolled": false
   },
   "outputs": [
    {
     "name": "stdout",
     "output_type": "stream",
     "text": [
      "                                         Product Name  \\\n",
      "0                     Shampure™ Nurturing Conditioner   \n",
      "1              Botanical Repair Strengthening Shampoo   \n",
      "2                Nutriplenish™ Shampoo Light Moisture   \n",
      "3         Invati Advanced™  Exfoliating Shampoo Light   \n",
      "4     Botanical Repair™ Strengthening Overnight Serum   \n",
      "5            Nutriplenish™ Conditioner Light Moisture   \n",
      "6        Nutriplenish™ Treatment Masque Deep Moisture   \n",
      "7                    Nutriplenish™ Multi-use Hair Oil   \n",
      "8          Invati Advanced™  Exfoliating Shampoo Rich   \n",
      "9                     Rosemary Mint Purifying Shampoo   \n",
      "10                 Invati Advanced™ Scalp Revitalizer   \n",
      "11  Botanical Repair Intensive Strengthening Hair ...   \n",
      "12         Nutriplenish™ Daily Moisturizing Treatment   \n",
      "13  Invati Advanced™ 3-Step System Light Set (Holi...   \n",
      "14     Invati Advanced™ Intensive Hair & Scalp Masque   \n",
      "15  Botanical Repair Intensive Strengthening Hair ...   \n",
      "16                            Be Curly™ Curl Enhancer   \n",
      "17              Smooth Infusion™ Style-Prep™ Smoother   \n",
      "18               Rosemary Mint Weightless Conditioner   \n",
      "19            Invati Advanced™ Thickening Conditioner   \n",
      "20                           Nutriplenish™ Curl Gelée   \n",
      "21  Botanical Repair Strengthening Leave-In Treatm...   \n",
      "22                   Nutriplenish Light Moisture Trio   \n",
      "23                Pramāsana™ Purifying Scalp Cleanser   \n",
      "24                    Invati Advanced Light Hair Trio   \n",
      "25            Pramāsana™ Protective Scalp Concentrate   \n",
      "26                              Be Curly™ Style Prep™   \n",
      "27         Botanical Repair Strengthening Conditioner   \n",
      "28           Blonde Revival Purple Toning Conditioner   \n",
      "29                        Shampure™ Nurturing Shampoo   \n",
      "30                   Invati Advanced™ Thickening Foam   \n",
      "31                 Nutriplenish™ Leave-in Conditioner   \n",
      "32               Blonde Revival Purple Toning Shampoo   \n",
      "33                Botanical Repair Strengthening Trio   \n",
      "\n",
      "                                            Image Url  \\\n",
      "0   https://image-optimizer-reg.production.sephora...   \n",
      "1   https://image-optimizer-reg.production.sephora...   \n",
      "2   https://image-optimizer-reg.production.sephora...   \n",
      "3   https://image-optimizer-reg.production.sephora...   \n",
      "4   https://image-optimizer-reg.production.sephora...   \n",
      "5   https://image-optimizer-reg.production.sephora...   \n",
      "6   https://image-optimizer-reg.production.sephora...   \n",
      "7   https://image-optimizer-reg.production.sephora...   \n",
      "8   https://image-optimizer-reg.production.sephora...   \n",
      "9   https://image-optimizer-reg.production.sephora...   \n",
      "10  https://image-optimizer-reg.production.sephora...   \n",
      "11  https://image-optimizer-reg.production.sephora...   \n",
      "12  https://image-optimizer-reg.production.sephora...   \n",
      "13  https://image-optimizer-reg.production.sephora...   \n",
      "14  https://image-optimizer-reg.production.sephora...   \n",
      "15  https://image-optimizer-reg.production.sephora...   \n",
      "16  https://image-optimizer-reg.production.sephora...   \n",
      "17  https://image-optimizer-reg.production.sephora...   \n",
      "18  https://image-optimizer-reg.production.sephora...   \n",
      "19  https://image-optimizer-reg.production.sephora...   \n",
      "20  https://image-optimizer-reg.production.sephora...   \n",
      "21  https://image-optimizer-reg.production.sephora...   \n",
      "22  https://image-optimizer-reg.production.sephora...   \n",
      "23  https://image-optimizer-reg.production.sephora...   \n",
      "24  https://image-optimizer-reg.production.sephora...   \n",
      "25  https://image-optimizer-reg.production.sephora...   \n",
      "26  https://image-optimizer-reg.production.sephora...   \n",
      "27  https://image-optimizer-reg.production.sephora...   \n",
      "28  https://image-optimizer-reg.production.sephora...   \n",
      "29  https://image-optimizer-reg.production.sephora...   \n",
      "30  https://image-optimizer-reg.production.sephora...   \n",
      "31  https://image-optimizer-reg.production.sephora...   \n",
      "32  https://image-optimizer-reg.production.sephora...   \n",
      "33  https://image-optimizer-reg.production.sephora...   \n",
      "\n",
      "                                        Product Links  \n",
      "0   https://www.sephora.sg/products/aveda-invati-a...  \n",
      "1   https://www.sephora.sg/products/aveda-nutriple...  \n",
      "2   https://www.sephora.sg/products/aveda-invati-a...  \n",
      "3   https://www.sephora.sg/products/aveda-botanica...  \n",
      "4   https://www.sephora.sg/products/aveda-botanica...  \n",
      "5   https://www.sephora.sg/products/aveda-nutriple...  \n",
      "6   https://www.sephora.sg/products/aveda-blonde-r...  \n",
      "7   https://www.sephora.sg/products/aveda-invati-a...  \n",
      "8   https://www.sephora.sg/products/aveda-rosemary...  \n",
      "9   https://www.sephora.sg/products/aveda-botanica...  \n",
      "10  https://www.sephora.sg/products/aveda-pramasan...  \n",
      "11  https://www.sephora.sg/products/aveda-shampure...  \n",
      "12  https://www.sephora.sg/products/aveda-botanica...  \n",
      "13  https://www.sephora.sg/products/aveda-pramasan...  \n",
      "14  https://www.sephora.sg/products/aveda-invati-a...  \n",
      "15  https://www.sephora.sg/products/aveda-nutriple...  \n",
      "16  https://www.sephora.sg/products/aveda-botanica...  \n",
      "17  https://www.sephora.sg/products/aveda-invati-a...  \n",
      "18  https://www.sephora.sg/products/aveda-be-curly...  \n",
      "19  https://www.sephora.sg/products/aveda-nutriple...  \n",
      "20  https://www.sephora.sg/products/aveda-nutriple...  \n",
      "21  https://www.sephora.sg/products/aveda-nutriple...  \n",
      "22  https://www.sephora.sg/products/aveda-botanica...  \n",
      "23  https://www.sephora.sg/products/aveda-botanica...  \n",
      "24  https://www.sephora.sg/products/aveda-invati-a...  \n",
      "25  https://www.sephora.sg/products/aveda-invati-a...  \n",
      "26  https://www.sephora.sg/products/aveda-be-curly...  \n",
      "27  https://www.sephora.sg/products/aveda-nutriple...  \n",
      "28  https://www.sephora.sg/products/aveda-shampure...  \n",
      "29  https://www.sephora.sg/products/aveda-rosemary...  \n",
      "30  https://www.sephora.sg/products/aveda-smooth-i...  \n",
      "31  https://www.sephora.sg/products/aveda-nutriple...  \n",
      "32  https://www.sephora.sg/products/aveda-blonde-r...  \n",
      "33  https://www.sephora.sg/products/aveda-invati-a...  \n"
     ]
    }
   ],
   "source": [
    "print(df)"
   ]
  },
  {
   "cell_type": "markdown",
   "id": "1d9e2da7",
   "metadata": {
    "_cell_guid": "d60b2c81-ea2c-fdc8-4e00-3f6b12af5fba"
   },
   "source": [
    "\n",
    "\n",
    "Prints 'Array' versions of each column. Data should match accurate at this stage."
   ]
  },
  {
   "cell_type": "code",
   "execution_count": 22,
   "id": "4f662726",
   "metadata": {
    "scrolled": true
   },
   "outputs": [
    {
     "name": "stdout",
     "output_type": "stream",
     "text": [
      "['Rosemary Mint Weightless Conditioner', 'Shampure™ Nurturing Conditioner', 'Invati Advanced™  Exfoliating Shampoo Light', 'Shampure™ Nurturing Shampoo', 'Rosemary Mint Purifying Shampoo', 'Invati Advanced™ Thickening Conditioner', 'Nutriplenish™ Shampoo Light Moisture', 'Nutriplenish™ Multi-use Hair Oil', 'Invati Advanced™  Exfoliating Shampoo Rich', 'Nutriplenish™ Leave-in Conditioner', 'Nutriplenish™ Daily Moisturizing Treatment', 'Smooth Infusion™ Style-Prep™ Smoother', 'Nutriplenish™ Treatment Masque Deep Moisture', 'Invati Advanced™ Intensive Hair & Scalp Masque', 'Botanical Repair™ Strengthening Overnight Serum', 'Nutriplenish™ Curl Gelée', 'Botanical Repair Strengthening Leave-In Treatment For Hair', 'Be Curly™ Curl Enhancer', 'Be Curly™ Style Prep™', 'Invati Advanced™ Scalp Revitalizer', 'Botanical Repair Intensive Strengthening Hair Masque Rich', 'Botanical Repair Intensive Strengthening Hair Masque Light', 'Invati Advanced™ Thickening Foam', 'Botanical Repair Strengthening Shampoo', 'Botanical Repair Strengthening Conditioner', 'Nutriplenish™ Conditioner Light Moisture', 'Blonde Revival Purple Toning Shampoo', 'Botanical Repair Strengthening Trio', 'Blonde Revival Purple Toning Conditioner', 'Nutriplenish Light Moisture Trio', 'Invati Advanced Light Hair Trio', 'Pramāsana™ Protective Scalp Concentrate', 'Invati Advanced™ 3-Step System Light Set (Holiday Limited Edition)', 'Pramāsana™ Purifying Scalp Cleanser']\n",
      "\n",
      "['https://image-optimizer-reg.production.sephora-asia.net/eyJlZGl0cyI6eyJyZXNpemUiOnt9fX0=/images/product_images/default_1_Product_18084998182-Aveda-Rosemary-Mint-Weightless-Conditioner-250ml_ef4d7765bb95e90136b95c9be1c42b1ed548fb85_1602434262.png', 'https://image-optimizer-reg.production.sephora-asia.net/eyJlZGl0cyI6eyJyZXNpemUiOnt9fX0=/images/product_images/default_1_Product_18084998083-Aveda-Shampure-Nurturing-Conditioner-250ml_eaa12351e3ad4947d9ffb1bfcdb62c2319a6ccfb_1602434260.png', 'https://image-optimizer-reg.production.sephora-asia.net/eyJlZGl0cyI6eyJyZXNpemUiOnt9fX0=/images/product_images/default_1_Product_18084016510-AVEDA-Invati-Advanced--Exfoliating-Shampoo-Light-200ml_68806ce1c2afe801e559bd6a513436bd7893d6bd_1602434237.png', 'https://image-optimizer-reg.production.sephora-asia.net/eyJlZGl0cyI6eyJyZXNpemUiOnt9fX0=/images/product_images/default_1_Product_18084998045-Aveda-Shampure-Nurturing-Shampoo-250ml_936df8a04e5fd1ca162dd5c658ed3970ca649db6_1602434259.png', 'https://image-optimizer-reg.production.sephora-asia.net/eyJlZGl0cyI6eyJyZXNpemUiOnt9fX0=/images/product_images/default_1_Product_18084998144-Aveda-Rosemary-Mint-Purifying-Shampoo-250ml_5eb24d6de893d65f0c8422d1756e517184ba06bb_1602434261.png', 'https://image-optimizer-reg.production.sephora-asia.net/eyJlZGl0cyI6eyJyZXNpemUiOnt9fX0=/images/product_images/default_1_Product_18084977316-Aveda-Invati-Advanced-Thickening-Conditioner-200ml_8521982159ac7ce0c5bd0e2d0df473eb53efd3be_1602434256.png', 'https://image-optimizer-reg.production.sephora-asia.net/eyJlZGl0cyI6eyJyZXNpemUiOnt9fX0=/images/product_images/default_1_Product_18084014325-Aveda-Nutriplenish-Shampoo-Light-Moisture-250ml_881817c1448f25bd0f9e36d9a58b691dc1ee62a9_1602434263.png', 'https://image-optimizer-reg.production.sephora-asia.net/eyJlZGl0cyI6eyJyZXNpemUiOnt9fX0=/images/product_images/default_1_Product_18084015810-Aveda-Nutriplenish-Multi-use-Hair-Oil-30ml_0d91c2238642eec8fd01a0e4bb2f2191df7bdf97_1602434235.png', 'https://image-optimizer-reg.production.sephora-asia.net/eyJlZGl0cyI6eyJyZXNpemUiOnt9fX0=/images/product_images/default_1_Product_18084016824-AVEDA-Invati-Advanced--Exfoliating-Shampoo-Rich-200ml_9a170851372d730620437d9168a1555569115a3c_1602434238.png', 'https://image-optimizer-reg.production.sephora-asia.net/eyJlZGl0cyI6eyJyZXNpemUiOnt9fX0=/images/product_images/default_1_Product_18084014516-Aveda-Nutriplenish-Leave-in-Conditioner-200ml_fdb1f738c47d7581612d298b130292995d3caee7_1602434234.png', 'https://image-optimizer-reg.production.sephora-asia.net/eyJlZGl0cyI6eyJyZXNpemUiOnt9fX0=/images/product_images/default_1_Product_18084028506-Aveda-Nutriplenish-Daily-Moisturizing-Treatment-150ml_27f98939d03ae24ca5adc97cf50f402b471c312d_1671531455.png', 'https://image-optimizer-reg.production.sephora-asia.net/eyJlZGl0cyI6eyJyZXNpemUiOnt9fX0=/images/product_images/default_1_Product_18084854204-Aveda-Smooth-Infusion-Style-Prep-Smoother-100ml_82ac14c6250707cda2b0c91ca55ea10fdeecab69_1602434243.png', 'https://image-optimizer-reg.production.sephora-asia.net/eyJlZGl0cyI6eyJyZXNpemUiOnt9fX0=/images/product_images/default_1_Product_18084036020-Aveda-Nutriplenish-Treatment-Masque-Deep-Moisture-200ml_0df2cd9e494af0c84a2e9e248f4f2efa3f97e645_1671531457.png', 'https://image-optimizer-reg.production.sephora-asia.net/eyJlZGl0cyI6eyJyZXNpemUiOnt9fX0=/images/product_images/default_1_Product_18084022962-AVEDA-Invati-Advanced--Intensive-Hair--Scalp-Masque-150ml_78ebc66cf467b694f95e5c34e8e0352bdd942ac8_1602434239.png', 'https://image-optimizer-reg.production.sephora-asia.net/eyJlZGl0cyI6eyJyZXNpemUiOnt9fX0=/images/product_images/default_1_Product_18084019610-Aveda-Botanical-Repair-Strengthening-Overnight-Serum-100ml_968e5340f77b327b1941a7b398aa8e29551d362d_1671531453.png', 'https://image-optimizer-reg.production.sephora-asia.net/eyJlZGl0cyI6eyJyZXNpemUiOnt9fX0=/images/product_images/default_1_Product_18084031070-Aveda-Nutriplenish-Curl-Gelee-200ml_e7bc3dc475ac9c2b930fca5ee7fa493f02e5e27a_1636967628.png', 'https://image-optimizer-reg.production.sephora-asia.net/eyJlZGl0cyI6eyJyZXNpemUiOnt9fX0=/images/product_images/default_1_Product_18084019580-Aveda-Botanical_20Repair_20Strengthening_20Leave-in_20Treatment-100m_465acdb065c3fa92887ebbe12387c292807f956d_1610009083.png', 'https://image-optimizer-reg.production.sephora-asia.net/eyJlZGl0cyI6eyJyZXNpemUiOnt9fX0=/images/product_images/default_1_Product_18084803479-Aveda-Be-Curly-Curl-Enhancer-200ml_1faf63e225effc71ca7141fec0639b6cca854fb1_1602434242.png', 'https://image-optimizer-reg.production.sephora-asia.net/eyJlZGl0cyI6eyJyZXNpemUiOnt9fX0=/images/product_images/default_1_Product_18084887417-Aveda-Be-Curly-Style-Prep-100ml_4735030f94b1eec2c7700963c902963b26eb198f_1602434244.png', 'https://image-optimizer-reg.production.sephora-asia.net/eyJlZGl0cyI6eyJyZXNpemUiOnt9fX0=/images/product_images/default_1_Product_18084977347-Aveda-Invati-Advanced-Scalp-Revitalizer-150ml_10f83472601aa2f678b57e16ca8c31c90dbdacd1_1602434258.png', 'https://image-optimizer-reg.production.sephora-asia.net/eyJlZGl0cyI6eyJyZXNpemUiOnt9fX0=/images/product_images/default_1_Product_18084019337-Aveda-Botanical-Repair-Intensive-Strengthening-Masque-Rich-200ml_1d2eaf0b94ccdcf2c9d8fc99bac9ac690eaa73ae_1610009108.png', 'https://image-optimizer-reg.production.sephora-asia.net/eyJlZGl0cyI6eyJyZXNpemUiOnt9fX0=/images/product_images/default_1_Product_18084019306-Aveda-Botanical-Repair-Intensive-Strengthening-Masque-Light-150ml_906e80426c2082dddeed8fcfd40d1b7b381f96bf_1610009270.png', 'https://image-optimizer-reg.production.sephora-asia.net/eyJlZGl0cyI6eyJyZXNpemUiOnt9fX0=/images/product_images/default_1_Product_18084030950-Aveda-Invati-Advanced-Thickening-Foam-150ml_626a1137dc265d81277882738e3c81553319c21d_1636967627.png', 'https://image-optimizer-reg.production.sephora-asia.net/eyJlZGl0cyI6eyJyZXNpemUiOnt9fX0=/images/product_images/default_1_Product_18084019481-Aveda-Botanical-RepairStrengthening-Shampoo-200ml_294acdcc28e81a1e70060d7ec9c8b53a415751d4_1610009055.png', 'https://image-optimizer-reg.production.sephora-asia.net/eyJlZGl0cyI6eyJyZXNpemUiOnt9fX0=/images/product_images/default_1_Product_18084019535-Aveda-Botanical-RepairStrengthening-Conditioner-200ml_d952f78db005f47f31cf9fa0ed218b35ca2fae1b_1610009132.png', 'https://image-optimizer-reg.production.sephora-asia.net/eyJlZGl0cyI6eyJyZXNpemUiOnt9fX0=/images/product_images/default_1_Product_18084014370-Aveda-Nutriplenish-Conditioner-Light-Moisture-250ml_3d200b500306e1b5080b1039368c0dfd046b27dc_1602434265.png', 'https://image-optimizer-reg.production.sephora-asia.net/eyJlZGl0cyI6eyJyZXNpemUiOnt9fX0=/images/product_images/default_1_Product_18084030387-Aveda-Blonde-Revival-Purple-Toning-Shampoo-200ml_c69ced4b0cdd84fe306abfd51b5a0f31e4e10e0a_1624472488.png', 'https://image-optimizer-reg.production.sephora-asia.net/eyJlZGl0cyI6eyJyZXNpemUiOnt9fX0=/images/product_images/default_1_Product_18084028384-Aveda-Botanical-Repair-Strengthening-Trio-Default_fcd1e686da37c491e1312c7df701c387b2daf00c_1625463869.png', 'https://image-optimizer-reg.production.sephora-asia.net/eyJlZGl0cyI6eyJyZXNpemUiOnt9fX0=/images/product_images/default_1_Product_18084030431-Aveda-Blonde-Revival-Purple-Toning-Conditioner-200ml_dcb73124c880e51bb60cf8c7dcbf53b093218606_1624472489.png', 'https://image-optimizer-reg.production.sephora-asia.net/eyJlZGl0cyI6eyJyZXNpemUiOnt9fX0=/images/product_images/default_1_Product_18084028346-Aveda-Nutriplenish-Light-Moisture-Trio-Default_651394c5c1e3a022be04b4326cfa4885dd0fd15c_1625463868.png', 'https://image-optimizer-reg.production.sephora-asia.net/eyJlZGl0cyI6eyJyZXNpemUiOnt9fX0=/images/product_images/default_1_Product_18084028360-Aveda-Invati-Advanced-Light-Hair-Trio-Default_1336aad5040b3aa2e8d4984bbaedbbf8096a77b6_1627669923.png', 'https://image-optimizer-reg.production.sephora-asia.net/eyJlZGl0cyI6eyJyZXNpemUiOnt9fX0=/images/product_images/default_1_Product_18084977132-Aveda-Pramasana-Protective-Scalp-Concentrate-75ml_9d71fea4499a8241f240c92691721d7a5cc4d37e_1602434254.png', 'https://image-optimizer-reg.production.sephora-asia.net/eyJlZGl0cyI6eyJyZXNpemUiOnt9fX0=/images/product_images/default_1_Product_2050000907067-Aveda-Invati-Advanced-3-Step-System-Light-Set-Christmas-Limited-Ed_eb1c2ac4ccbd90942ce000d6a2c431e976d3cf33_1663252481.png', 'https://image-optimizer-reg.production.sephora-asia.net/eyJlZGl0cyI6eyJyZXNpemUiOnt9fX0=/images/product_images/default_1_Product_18084977118-Aveda-Pramasana-Purifying-Scalp-Cleanser-150ml_250b5f67b87b9f30824bf62e14bc402a91720045_1602434252.png']\n",
      "\n",
      "['https://www.sephora.sg/products/aveda-rosemary-mint-weightless-conditioner/v/250ml', 'https://www.sephora.sg/products/aveda-shampure-nurturing-conditioner/v/250ml', 'https://www.sephora.sg/products/aveda-invati-advanced-exfoliating-shampoo-light/v/200ml', 'https://www.sephora.sg/products/aveda-shampure-nurturing-shampoo/v/250ml', 'https://www.sephora.sg/products/aveda-rosemary-mint-purifying-shampoo/v/250ml', 'https://www.sephora.sg/products/aveda-invati-advanced-thickening-conditioner/v/200ml', 'https://www.sephora.sg/products/aveda-nutriplenish-shampoo-light-moisture/v/250ml', 'https://www.sephora.sg/products/aveda-nutriplenish-multi-use-hair-oil/v/30ml', 'https://www.sephora.sg/products/aveda-invati-advanced-exfoliating-shampoo-rich/v/200ml', 'https://www.sephora.sg/products/aveda-nutriplenish-leave-in-conditioner/v/200ml', 'https://www.sephora.sg/products/aveda-nutriplenish-daily-moisturizing-treatment/v/150ml', 'https://www.sephora.sg/products/aveda-smooth-infusion-style-prep-smoother/v/100ml', 'https://www.sephora.sg/products/aveda-nutriplenish-treatment-masque-deep-moisture/v/200ml', 'https://www.sephora.sg/products/aveda-invati-advanced-intensive-hair-and-scalp-masque/v/150ml', 'https://www.sephora.sg/products/aveda-botanical-repair-strengthening-overnight-serum/v/100ml', 'https://www.sephora.sg/products/aveda-nutriplenish-curl-gelee/v/200ml', 'https://www.sephora.sg/products/aveda-botanical-repair-strengthening-leave-in-treatment-for-hair/v/100ml', 'https://www.sephora.sg/products/aveda-be-curly-curl-enhancer/v/200ml', 'https://www.sephora.sg/products/aveda-be-curly-style-prep/v/100ml', 'https://www.sephora.sg/products/aveda-invati-advanced-scalp-revitalizer/v/150ml', 'https://www.sephora.sg/products/aveda-botanical-repair-intensive-strengthening-hair-masque-rich/v/200ml', 'https://www.sephora.sg/products/aveda-botanical-repair-intensive-strengthening-hair-masque-light/v/150ml', 'https://www.sephora.sg/products/aveda-invati-advanced-thickening-foam/v/150ml', 'https://www.sephora.sg/products/aveda-botanical-repair-strengthening-shampoo/v/200ml', 'https://www.sephora.sg/products/aveda-botanical-repair-strengthening-conditioner/v/200ml', 'https://www.sephora.sg/products/aveda-nutriplenish-conditioner-light-moisture/v/250ml', 'https://www.sephora.sg/products/aveda-blonde-revival-purple-toning-shampoo/v/200ml', 'https://www.sephora.sg/products/aveda-botanical-repair-strengthening-trio/v/default', 'https://www.sephora.sg/products/aveda-blonde-revival-purple-toning-conditioner/v/200ml', 'https://www.sephora.sg/products/aveda-nutriplenish-light-moisture-trio/v/default', 'https://www.sephora.sg/products/aveda-invati-advanced-light-hair-trio/v/default', 'https://www.sephora.sg/products/aveda-pramasana-protective-scalp-concentrate/v/75ml', 'https://www.sephora.sg/products/aveda-invati-advanced-3-step-system-light-set-holiday-limited-edition/v/default', 'https://www.sephora.sg/products/aveda-pramasana-purifying-scalp-cleanser/v/150ml']\n"
     ]
    }
   ],
   "source": [
    "dfArrayProduct = []\n",
    "dfArrayImg = []\n",
    "dfArrayLink = []\n",
    "for container in containers:\n",
    "        dfArrayProduct.append(container.find('div', {'class': 'product-name'}).text.strip())\n",
    "        dfArrayImg.append(container.find('img', {'class': 'product-card-image'})['src'])\n",
    "        dfArrayLink.append('https://www.sephora.sg' + container.find('a', {'class': 'product-card-image-link'})['href'])\n",
    "print(dfArrayProduct)\n",
    "print('')\n",
    "print(dfArrayImg)\n",
    "print('')\n",
    "print(dfArrayLink)\n",
    "\n"
   ]
  },
  {
   "cell_type": "markdown",
   "id": "4aa54081",
   "metadata": {
    "_cell_guid": "d60b2c81-ea2c-fdc8-4e00-3f6b12af5fba"
   },
   "source": [
    "\n",
    "\n",
    "Prints 'Array' versions of each column. Data should match accurate at this stage."
   ]
  },
  {
   "cell_type": "code",
   "execution_count": 23,
   "id": "b91937f8",
   "metadata": {
    "scrolled": true
   },
   "outputs": [
    {
     "name": "stdout",
     "output_type": "stream",
     "text": [
      "                                         Product_Name  \\\n",
      "0                Rosemary Mint Weightless Conditioner   \n",
      "1                     Shampure™ Nurturing Conditioner   \n",
      "2         Invati Advanced™  Exfoliating Shampoo Light   \n",
      "3                         Shampure™ Nurturing Shampoo   \n",
      "4                     Rosemary Mint Purifying Shampoo   \n",
      "5             Invati Advanced™ Thickening Conditioner   \n",
      "6                Nutriplenish™ Shampoo Light Moisture   \n",
      "7                    Nutriplenish™ Multi-use Hair Oil   \n",
      "8          Invati Advanced™  Exfoliating Shampoo Rich   \n",
      "9                  Nutriplenish™ Leave-in Conditioner   \n",
      "10         Nutriplenish™ Daily Moisturizing Treatment   \n",
      "11              Smooth Infusion™ Style-Prep™ Smoother   \n",
      "12       Nutriplenish™ Treatment Masque Deep Moisture   \n",
      "13     Invati Advanced™ Intensive Hair & Scalp Masque   \n",
      "14    Botanical Repair™ Strengthening Overnight Serum   \n",
      "15                           Nutriplenish™ Curl Gelée   \n",
      "16  Botanical Repair Strengthening Leave-In Treatm...   \n",
      "17                            Be Curly™ Curl Enhancer   \n",
      "18                              Be Curly™ Style Prep™   \n",
      "19                 Invati Advanced™ Scalp Revitalizer   \n",
      "20  Botanical Repair Intensive Strengthening Hair ...   \n",
      "21  Botanical Repair Intensive Strengthening Hair ...   \n",
      "22                   Invati Advanced™ Thickening Foam   \n",
      "23             Botanical Repair Strengthening Shampoo   \n",
      "24         Botanical Repair Strengthening Conditioner   \n",
      "25           Nutriplenish™ Conditioner Light Moisture   \n",
      "26               Blonde Revival Purple Toning Shampoo   \n",
      "27                Botanical Repair Strengthening Trio   \n",
      "28           Blonde Revival Purple Toning Conditioner   \n",
      "29                   Nutriplenish Light Moisture Trio   \n",
      "30                    Invati Advanced Light Hair Trio   \n",
      "31            Pramāsana™ Protective Scalp Concentrate   \n",
      "32  Invati Advanced™ 3-Step System Light Set (Holi...   \n",
      "33                Pramāsana™ Purifying Scalp Cleanser   \n",
      "\n",
      "                                            Image_URL  \\\n",
      "0   https://image-optimizer-reg.production.sephora...   \n",
      "1   https://image-optimizer-reg.production.sephora...   \n",
      "2   https://image-optimizer-reg.production.sephora...   \n",
      "3   https://image-optimizer-reg.production.sephora...   \n",
      "4   https://image-optimizer-reg.production.sephora...   \n",
      "5   https://image-optimizer-reg.production.sephora...   \n",
      "6   https://image-optimizer-reg.production.sephora...   \n",
      "7   https://image-optimizer-reg.production.sephora...   \n",
      "8   https://image-optimizer-reg.production.sephora...   \n",
      "9   https://image-optimizer-reg.production.sephora...   \n",
      "10  https://image-optimizer-reg.production.sephora...   \n",
      "11  https://image-optimizer-reg.production.sephora...   \n",
      "12  https://image-optimizer-reg.production.sephora...   \n",
      "13  https://image-optimizer-reg.production.sephora...   \n",
      "14  https://image-optimizer-reg.production.sephora...   \n",
      "15  https://image-optimizer-reg.production.sephora...   \n",
      "16  https://image-optimizer-reg.production.sephora...   \n",
      "17  https://image-optimizer-reg.production.sephora...   \n",
      "18  https://image-optimizer-reg.production.sephora...   \n",
      "19  https://image-optimizer-reg.production.sephora...   \n",
      "20  https://image-optimizer-reg.production.sephora...   \n",
      "21  https://image-optimizer-reg.production.sephora...   \n",
      "22  https://image-optimizer-reg.production.sephora...   \n",
      "23  https://image-optimizer-reg.production.sephora...   \n",
      "24  https://image-optimizer-reg.production.sephora...   \n",
      "25  https://image-optimizer-reg.production.sephora...   \n",
      "26  https://image-optimizer-reg.production.sephora...   \n",
      "27  https://image-optimizer-reg.production.sephora...   \n",
      "28  https://image-optimizer-reg.production.sephora...   \n",
      "29  https://image-optimizer-reg.production.sephora...   \n",
      "30  https://image-optimizer-reg.production.sephora...   \n",
      "31  https://image-optimizer-reg.production.sephora...   \n",
      "32  https://image-optimizer-reg.production.sephora...   \n",
      "33  https://image-optimizer-reg.production.sephora...   \n",
      "\n",
      "                                           Extensions  \n",
      "0   https://www.sephora.sg/products/aveda-rosemary...  \n",
      "1   https://www.sephora.sg/products/aveda-shampure...  \n",
      "2   https://www.sephora.sg/products/aveda-invati-a...  \n",
      "3   https://www.sephora.sg/products/aveda-shampure...  \n",
      "4   https://www.sephora.sg/products/aveda-rosemary...  \n",
      "5   https://www.sephora.sg/products/aveda-invati-a...  \n",
      "6   https://www.sephora.sg/products/aveda-nutriple...  \n",
      "7   https://www.sephora.sg/products/aveda-nutriple...  \n",
      "8   https://www.sephora.sg/products/aveda-invati-a...  \n",
      "9   https://www.sephora.sg/products/aveda-nutriple...  \n",
      "10  https://www.sephora.sg/products/aveda-nutriple...  \n",
      "11  https://www.sephora.sg/products/aveda-smooth-i...  \n",
      "12  https://www.sephora.sg/products/aveda-nutriple...  \n",
      "13  https://www.sephora.sg/products/aveda-invati-a...  \n",
      "14  https://www.sephora.sg/products/aveda-botanica...  \n",
      "15  https://www.sephora.sg/products/aveda-nutriple...  \n",
      "16  https://www.sephora.sg/products/aveda-botanica...  \n",
      "17  https://www.sephora.sg/products/aveda-be-curly...  \n",
      "18  https://www.sephora.sg/products/aveda-be-curly...  \n",
      "19  https://www.sephora.sg/products/aveda-invati-a...  \n",
      "20  https://www.sephora.sg/products/aveda-botanica...  \n",
      "21  https://www.sephora.sg/products/aveda-botanica...  \n",
      "22  https://www.sephora.sg/products/aveda-invati-a...  \n",
      "23  https://www.sephora.sg/products/aveda-botanica...  \n",
      "24  https://www.sephora.sg/products/aveda-botanica...  \n",
      "25  https://www.sephora.sg/products/aveda-nutriple...  \n",
      "26  https://www.sephora.sg/products/aveda-blonde-r...  \n",
      "27  https://www.sephora.sg/products/aveda-botanica...  \n",
      "28  https://www.sephora.sg/products/aveda-blonde-r...  \n",
      "29  https://www.sephora.sg/products/aveda-nutriple...  \n",
      "30  https://www.sephora.sg/products/aveda-invati-a...  \n",
      "31  https://www.sephora.sg/products/aveda-pramasan...  \n",
      "32  https://www.sephora.sg/products/aveda-invati-a...  \n",
      "33  https://www.sephora.sg/products/aveda-pramasan...  \n"
     ]
    }
   ],
   "source": [
    "df = pd.DataFrame({'Product_Name': list(dfArrayProduct), 'Image_URL': list(dfArrayImg), 'Extensions': list(dfArrayLink)})\n",
    "\n",
    "print(df)"
   ]
  },
  {
   "cell_type": "code",
   "execution_count": 24,
   "id": "420a5cb3",
   "metadata": {
    "scrolled": true
   },
   "outputs": [
    {
     "name": "stdout",
     "output_type": "stream",
     "text": [
      "['https://www.sephora.sg/products/aveda-rosemary-mint-weightless-conditioner/v/250ml', 'https://www.sephora.sg/products/aveda-shampure-nurturing-conditioner/v/250ml', 'https://www.sephora.sg/products/aveda-invati-advanced-exfoliating-shampoo-light/v/200ml', 'https://www.sephora.sg/products/aveda-shampure-nurturing-shampoo/v/250ml', 'https://www.sephora.sg/products/aveda-rosemary-mint-purifying-shampoo/v/250ml', 'https://www.sephora.sg/products/aveda-invati-advanced-thickening-conditioner/v/200ml', 'https://www.sephora.sg/products/aveda-nutriplenish-shampoo-light-moisture/v/250ml', 'https://www.sephora.sg/products/aveda-nutriplenish-multi-use-hair-oil/v/30ml', 'https://www.sephora.sg/products/aveda-invati-advanced-exfoliating-shampoo-rich/v/200ml', 'https://www.sephora.sg/products/aveda-nutriplenish-leave-in-conditioner/v/200ml', 'https://www.sephora.sg/products/aveda-nutriplenish-daily-moisturizing-treatment/v/150ml', 'https://www.sephora.sg/products/aveda-smooth-infusion-style-prep-smoother/v/100ml', 'https://www.sephora.sg/products/aveda-nutriplenish-treatment-masque-deep-moisture/v/200ml', 'https://www.sephora.sg/products/aveda-invati-advanced-intensive-hair-and-scalp-masque/v/150ml', 'https://www.sephora.sg/products/aveda-botanical-repair-strengthening-overnight-serum/v/100ml', 'https://www.sephora.sg/products/aveda-nutriplenish-curl-gelee/v/200ml', 'https://www.sephora.sg/products/aveda-botanical-repair-strengthening-leave-in-treatment-for-hair/v/100ml', 'https://www.sephora.sg/products/aveda-be-curly-curl-enhancer/v/200ml', 'https://www.sephora.sg/products/aveda-be-curly-style-prep/v/100ml', 'https://www.sephora.sg/products/aveda-invati-advanced-scalp-revitalizer/v/150ml', 'https://www.sephora.sg/products/aveda-botanical-repair-intensive-strengthening-hair-masque-rich/v/200ml', 'https://www.sephora.sg/products/aveda-botanical-repair-intensive-strengthening-hair-masque-light/v/150ml', 'https://www.sephora.sg/products/aveda-invati-advanced-thickening-foam/v/150ml', 'https://www.sephora.sg/products/aveda-botanical-repair-strengthening-shampoo/v/200ml', 'https://www.sephora.sg/products/aveda-botanical-repair-strengthening-conditioner/v/200ml', 'https://www.sephora.sg/products/aveda-nutriplenish-conditioner-light-moisture/v/250ml', 'https://www.sephora.sg/products/aveda-blonde-revival-purple-toning-shampoo/v/200ml', 'https://www.sephora.sg/products/aveda-botanical-repair-strengthening-trio/v/default', 'https://www.sephora.sg/products/aveda-blonde-revival-purple-toning-conditioner/v/200ml', 'https://www.sephora.sg/products/aveda-nutriplenish-light-moisture-trio/v/default', 'https://www.sephora.sg/products/aveda-invati-advanced-light-hair-trio/v/default', 'https://www.sephora.sg/products/aveda-pramasana-protective-scalp-concentrate/v/75ml', 'https://www.sephora.sg/products/aveda-invati-advanced-3-step-system-light-set-holiday-limited-edition/v/default', 'https://www.sephora.sg/products/aveda-pramasana-purifying-scalp-cleanser/v/150ml']\n"
     ]
    }
   ],
   "source": [
    "print(dfArrayLink)"
   ]
  },
  {
   "cell_type": "markdown",
   "id": "eee83f16",
   "metadata": {},
   "source": [
    "\n",
    "\n",
    "Each product load will require 11s to ensure all data is loaded and extracted before the webdriver is closed."
   ]
  },
  {
   "cell_type": "code",
   "execution_count": 25,
   "id": "eb9f1603",
   "metadata": {
    "scrolled": false
   },
   "outputs": [
    {
     "name": "stdout",
     "output_type": "stream",
     "text": [
      "Number of links:  34\n",
      "Estimated Load Time (in seconds) 374\n",
      "https://www.sephora.sg/products/aveda-rosemary-mint-weightless-conditioner/v/250ml\n",
      "https://www.sephora.sg/products/aveda-shampure-nurturing-conditioner/v/250ml\n",
      "https://www.sephora.sg/products/aveda-invati-advanced-exfoliating-shampoo-light/v/200ml\n",
      "https://www.sephora.sg/products/aveda-shampure-nurturing-shampoo/v/250ml\n",
      "https://www.sephora.sg/products/aveda-rosemary-mint-purifying-shampoo/v/250ml\n",
      "https://www.sephora.sg/products/aveda-invati-advanced-thickening-conditioner/v/200ml\n",
      "https://www.sephora.sg/products/aveda-nutriplenish-shampoo-light-moisture/v/250ml\n",
      "https://www.sephora.sg/products/aveda-nutriplenish-multi-use-hair-oil/v/30ml\n",
      "https://www.sephora.sg/products/aveda-invati-advanced-exfoliating-shampoo-rich/v/200ml\n",
      "https://www.sephora.sg/products/aveda-nutriplenish-leave-in-conditioner/v/200ml\n",
      "https://www.sephora.sg/products/aveda-nutriplenish-daily-moisturizing-treatment/v/150ml\n",
      "https://www.sephora.sg/products/aveda-smooth-infusion-style-prep-smoother/v/100ml\n",
      "https://www.sephora.sg/products/aveda-nutriplenish-treatment-masque-deep-moisture/v/200ml\n",
      "https://www.sephora.sg/products/aveda-invati-advanced-intensive-hair-and-scalp-masque/v/150ml\n",
      "https://www.sephora.sg/products/aveda-botanical-repair-strengthening-overnight-serum/v/100ml\n",
      "https://www.sephora.sg/products/aveda-nutriplenish-curl-gelee/v/200ml\n",
      "https://www.sephora.sg/products/aveda-botanical-repair-strengthening-leave-in-treatment-for-hair/v/100ml\n",
      "https://www.sephora.sg/products/aveda-be-curly-curl-enhancer/v/200ml\n",
      "https://www.sephora.sg/products/aveda-be-curly-style-prep/v/100ml\n",
      "https://www.sephora.sg/products/aveda-invati-advanced-scalp-revitalizer/v/150ml\n",
      "https://www.sephora.sg/products/aveda-botanical-repair-intensive-strengthening-hair-masque-rich/v/200ml\n",
      "https://www.sephora.sg/products/aveda-botanical-repair-intensive-strengthening-hair-masque-light/v/150ml\n",
      "https://www.sephora.sg/products/aveda-invati-advanced-thickening-foam/v/150ml\n",
      "https://www.sephora.sg/products/aveda-botanical-repair-strengthening-shampoo/v/200ml\n",
      "https://www.sephora.sg/products/aveda-botanical-repair-strengthening-conditioner/v/200ml\n",
      "https://www.sephora.sg/products/aveda-nutriplenish-conditioner-light-moisture/v/250ml\n",
      "https://www.sephora.sg/products/aveda-blonde-revival-purple-toning-shampoo/v/200ml\n",
      "https://www.sephora.sg/products/aveda-botanical-repair-strengthening-trio/v/default\n",
      "https://www.sephora.sg/products/aveda-blonde-revival-purple-toning-conditioner/v/200ml\n",
      "https://www.sephora.sg/products/aveda-nutriplenish-light-moisture-trio/v/default\n",
      "https://www.sephora.sg/products/aveda-invati-advanced-light-hair-trio/v/default\n",
      "https://www.sephora.sg/products/aveda-pramasana-protective-scalp-concentrate/v/75ml\n",
      "https://www.sephora.sg/products/aveda-invati-advanced-3-step-system-light-set-holiday-limited-edition/v/default\n",
      "https://www.sephora.sg/products/aveda-pramasana-purifying-scalp-cleanser/v/150ml\n"
     ]
    }
   ],
   "source": [
    "print(\"Number of links: \",  str(len(dfArrayLink)))\n",
    "print(\"Estimated Load Time (in seconds)\", str(len(dfArrayLink) * 11))\n",
    "for link in dfArrayLink:\n",
    "    print(link)\n"
   ]
  },
  {
   "cell_type": "markdown",
   "id": "ebb74f02",
   "metadata": {},
   "source": [
    "Ingredients webscraping from each product, utilizing the url extension of each product to find its relevant page & scraping ingredient data."
   ]
  },
  {
   "cell_type": "code",
   "execution_count": 9,
   "id": "f894edcd",
   "metadata": {
    "scrolled": false
   },
   "outputs": [],
   "source": [
    "from selenium import webdriver\n",
    "from selenium.webdriver.chrome.service import Service\n",
    "from selenium.webdriver.common.by import By\n",
    "from selenium.webdriver.support.ui import WebDriverWait\n",
    "from selenium.webdriver.support import expected_conditions as EC\n",
    "from bs4 import BeautifulSoup\n",
    "\n",
    "def get_product_ingredients(url):\n",
    "    ingredientHeader = []\n",
    "    service = Service('path/to/chromedriver') \n",
    "    driver = webdriver.Chrome(service=service)\n",
    "    driver.get(url)\n",
    "    try:\n",
    "        WebDriverWait(driver, 5).until(EC.presence_of_element_located((By.CLASS_NAME, 'product-ingredients-values')))\n",
    "        soup = BeautifulSoup(driver.page_source, 'html.parser')\n",
    "        ingredients_div = soup.find('div', {'class': 'product-ingredients-values'}).text.strip()\n",
    "        header_div = soup.find('div', {'class' : \"product-heading\"}).h1.text\n",
    "        ingredientHeader.append(ingredients_div)\n",
    "        ingredientHeader.append(header_div)\n",
    "        return ingredientHeader\n",
    "    finally:\n",
    "        driver.quit()\n",
    "\n",
    "for url in dfArrayLink:\n",
    "    ingredients = get_product_ingredients(url)\n",
    "    print(ingredients[1])\n",
    "    print(ingredients[0])\n",
    "    print('')"
   ]
  },
  {
   "cell_type": "code",
   "execution_count": 26,
   "id": "e6b5fbc8",
   "metadata": {},
   "outputs": [
    {
     "name": "stdout",
     "output_type": "stream",
     "text": [
      "                                              product  \\\n",
      "0                Rosemary Mint Weightless Conditioner   \n",
      "1                     Shampure™ Nurturing Conditioner   \n",
      "2         Invati Advanced™  Exfoliating Shampoo Light   \n",
      "3                         Shampure™ Nurturing Shampoo   \n",
      "4                     Rosemary Mint Purifying Shampoo   \n",
      "5             Invati Advanced™ Thickening Conditioner   \n",
      "6                Nutriplenish™ Shampoo Light Moisture   \n",
      "7                    Nutriplenish™ Multi-use Hair Oil   \n",
      "8          Invati Advanced™  Exfoliating Shampoo Rich   \n",
      "9                  Nutriplenish™ Leave-in Conditioner   \n",
      "10         Nutriplenish™ Daily Moisturizing Treatment   \n",
      "11              Smooth Infusion™ Style-Prep™ Smoother   \n",
      "12       Nutriplenish™ Treatment Masque Deep Moisture   \n",
      "13     Invati Advanced™ Intensive Hair & Scalp Masque   \n",
      "14    Botanical Repair™ Strengthening Overnight Serum   \n",
      "15                           Nutriplenish™ Curl Gelée   \n",
      "16  Botanical Repair Strengthening Leave-In Treatm...   \n",
      "17                            Be Curly™ Curl Enhancer   \n",
      "18                              Be Curly™ Style Prep™   \n",
      "19                 Invati Advanced™ Scalp Revitalizer   \n",
      "20  Botanical Repair Intensive Strengthening Hair ...   \n",
      "21  Botanical Repair Intensive Strengthening Hair ...   \n",
      "22                   Invati Advanced™ Thickening Foam   \n",
      "23             Botanical Repair Strengthening Shampoo   \n",
      "24         Botanical Repair Strengthening Conditioner   \n",
      "25           Nutriplenish™ Conditioner Light Moisture   \n",
      "26               Blonde Revival Purple Toning Shampoo   \n",
      "27                Botanical Repair Strengthening Trio   \n",
      "28           Blonde Revival Purple Toning Conditioner   \n",
      "29                   Nutriplenish Light Moisture Trio   \n",
      "30                    Invati Advanced Light Hair Trio   \n",
      "31            Pramāsana™ Protective Scalp Concentrate   \n",
      "32  Invati Advanced™ 3-Step System Light Set (Holi...   \n",
      "33                Pramāsana™ Purifying Scalp Cleanser   \n",
      "\n",
      "                                          ingredients  \n",
      "0   Water\\Aqua\\Eau, Cetyl Alcohol, Glyceryl Steara...  \n",
      "1   Water\\Aqua\\Eau, Cetearyl Alcohol, Propanediol,...  \n",
      "2   Water\\Aqua\\Eau, Sodium Methyl Cocoyl Taurate, ...  \n",
      "3   Water\\Aqua\\Eau, Ammonium Lauryl Sulfate, Cocam...  \n",
      "4   Water\\Aqua\\Eau, Sodium Coco-Sulfate, Glycerin,...  \n",
      "5   Water\\Aqua\\Eau, Cetearyl Alcohol, Propanediol,...  \n",
      "6   Water\\Aqua\\Eau, Sodium Lauroyl Methyl Isethion...  \n",
      "7   Helianthus Annuus (Sunflower) Seed Oil, Persea...  \n",
      "8   Water\\Aqua\\Eau, Sodium Lauroyl Methyl Isethion...  \n",
      "9   Water\\Aqua\\Eau, Propanediol, Cetearyl Alcohol,...  \n",
      "10  Water\\Aqua\\Eau, Propanediol, Cetearyl Alcohol,...  \n",
      "11  Aqueous (Water\\Aqua\\Eau) Extract\\Extrait Aqueu...  \n",
      "12  Water\\Aqua\\Eau, Cetearyl Alcohol, Cocos Nucife...  \n",
      "13  Water\\Aqua\\Eau, Cetearyl Alcohol, Propanediol,...  \n",
      "14  Water\\Aqua\\Eau, Propanediol, Polyglyceryl-3 Me...  \n",
      "15  Water\\Aqua\\Eau, Glycerin, Propanediol, Pyrus M...  \n",
      "16  Water\\Aqua\\Eau, Cetearyl Alcohol, Hydroxypropy...  \n",
      "17  Water\\Aqua\\Eau, Cetearyl Alcohol, Cetyl Alcoho...  \n",
      "18  Water\\Aqua\\Eau, Vp/Va Copolymer, Glycerin, Pro...  \n",
      "19  Alcohol Denat., Water\\Aqua\\Eau, Glycerin, Citr...  \n",
      "20  Water\\Aqua\\Eau, Cetearyl Alcohol, Stearamidopr...  \n",
      "21  Water\\Aqua\\Eau, Cetearyl Alcohol, Stearamidopr...  \n",
      "22  Water\\Aqua\\Eau, Propanediol, Polysorbate 20, G...  \n",
      "23  Water\\Aqua\\Eau, Sodium Cocoyl Isethionate, Sod...  \n",
      "24  Water\\Aqua\\Eau, Cetearyl Alcohol, Propanediol,...  \n",
      "25  Water\\Aqua\\Eau, Cetearyl Alcohol, Stearamidopr...  \n",
      "26  Water\\Aqua\\Eau, Sodium Cocoyl Isethionate, Pro...  \n",
      "27  Aveda Botanical Repair™ Strengthening Shampoo:...  \n",
      "28  Water\\Aqua\\Eau, Cetearyl Alcohol, Propanediol,...  \n",
      "29  Aveda Nutriplenish™ Shampoo Light Moisture: Wa...  \n",
      "30  Aveda Invati Advanced™ Exfoliating Shampoo Lig...  \n",
      "31  Water\\Aqua\\Eau, Propanediol, Polyglyceryl-10 O...  \n",
      "32  Invati Advanced™ Exfoliating Shampoo Light: Wa...  \n",
      "33  Water\\Aqua\\Eau, Sodium Methyl Cocoyl Taurate, ...  \n"
     ]
    }
   ],
   "source": [
    "import pandas as pd\n",
    "from selenium import webdriver\n",
    "from selenium.webdriver.chrome.service import Service\n",
    "from selenium.webdriver.common.by import By\n",
    "from selenium.webdriver.support.ui import WebDriverWait\n",
    "from selenium.webdriver.support import expected_conditions as EC\n",
    "from bs4 import BeautifulSoup\n",
    "\n",
    "def get_product_ingredients(url):\n",
    "    service = Service('path/to/chromedriver')\n",
    "    driver = webdriver.Chrome(service=service)\n",
    "    driver.get(url)\n",
    "    try:\n",
    "        WebDriverWait(driver, 10).until(EC.presence_of_element_located((By.CLASS_NAME, 'product-ingredients-values')))\n",
    "        soup = BeautifulSoup(driver.page_source, 'html.parser')\n",
    "        ingredients_div = soup.find('div', {'class': 'product-ingredients-values'}).text.strip()\n",
    "        header_div = soup.find('div', {'class': \"product-heading\"}).h1.text\n",
    "        return [header_div, ingredients_div]\n",
    "    except:\n",
    "        return []\n",
    "    finally:\n",
    "        driver.quit()\n",
    "\n",
    "ingredients_list = [get_product_ingredients(url) for url in dfArrayLink]\n",
    "\n",
    "df = pd.DataFrame(ingredients_list, columns=['product', 'ingredients'])"
   ]
  },
  {
   "cell_type": "code",
   "execution_count": null,
   "id": "cb501bb3",
   "metadata": {},
   "outputs": [],
   "source": [
    "print(df)"
   ]
  },
  {
   "cell_type": "markdown",
   "id": "f3b35789",
   "metadata": {},
   "source": [
    "\n",
    "\n",
    "Generates excel sheet containing data shown in dataframe above."
   ]
  },
  {
   "cell_type": "code",
   "execution_count": 28,
   "id": "8528a09c",
   "metadata": {},
   "outputs": [],
   "source": [
    "df.to_excel('aveda-ingredients.xlsx', index=False, startrow=0)"
   ]
  },
  {
   "cell_type": "code",
   "execution_count": null,
   "id": "758be1c9",
   "metadata": {},
   "outputs": [],
   "source": []
  }
 ],
 "metadata": {
  "kernelspec": {
   "display_name": "Python 3 (ipykernel)",
   "language": "python",
   "name": "python3"
  },
  "language_info": {
   "codemirror_mode": {
    "name": "ipython",
    "version": 3
   },
   "file_extension": ".py",
   "mimetype": "text/x-python",
   "name": "python",
   "nbconvert_exporter": "python",
   "pygments_lexer": "ipython3",
   "version": "3.10.9"
  }
 },
 "nbformat": 4,
 "nbformat_minor": 5
}
